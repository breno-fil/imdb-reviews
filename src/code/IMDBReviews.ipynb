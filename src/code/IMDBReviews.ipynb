{
 "cells": [
  {
   "attachments": {},
   "cell_type": "markdown",
   "metadata": {},
   "source": [
    "## IMDB Review NLP\n",
    "\n",
    "--- \n",
    "\n",
    "Neste notebook vamos ler um arquivo do tipo **.csv** com cerca de 50.000 reviews de diversos filmes do [IMDB](https://www.imdb.com/) disponíveis no [Kaggle](https://www.kaggle.com/datasets/lakshmi25npathi/imdb-dataset-of-50k-movie-reviews) e analisar o sentimento de cada review.\n",
    "\n",
    "---"
   ]
  },
  {
   "cell_type": "code",
   "execution_count": null,
   "metadata": {},
   "outputs": [],
   "source": [
    "%pip install -r requirements.txt"
   ]
  },
  {
   "cell_type": "code",
   "execution_count": null,
   "metadata": {},
   "outputs": [],
   "source": [
    "import pandas as pds\n",
    "import matplotlib as mpl\n",
    "import matplotlib.pyplot as plt\n",
    "import seaborn as sns\n",
    "import plotly as ptly\n",
    "\n",
    "from bs4 import BeautifulSoup"
   ]
  },
  {
   "cell_type": "code",
   "execution_count": null,
   "metadata": {},
   "outputs": [],
   "source": [
    "# reads the csv using the pandas library\n",
    "data_frame = pds.read_csv('../assets/Reviews/reviews.csv')\n",
    "# defines a pattern to search inside the csv\n",
    "pattern = r'(<br>|<br />|http)'\n",
    "# replaces the pattern values with empty string\n",
    "data_frame['review'] = data_frame['review'].str.replace(pattern, \"\", regex=True)\n"
   ]
  },
  {
   "cell_type": "code",
   "execution_count": null,
   "metadata": {},
   "outputs": [],
   "source": [
    "# init chart view\n",
    "figure, axes = plt.subplots()\n",
    "# counting values\n",
    "count = pds.value_counts(data_frame['sentiment'])\n",
    "# chart data config\n",
    "sentiments = ['Negativo', 'Positivo']\n",
    "counts = [count['negative'], count['positive']]\n",
    "bar_labels = ['Negativo', 'Positivo']\n",
    "bar_colors = ['tab:red', 'tab:blue']\n",
    "# axes config\n",
    "axes.bar(sentiments, counts, label=bar_labels, color=bar_colors)\n",
    "axes.set_ylabel('Ocorrência')\n",
    "axes.set_title('Distribuição de Sentimentos')\n",
    "# chart show\n",
    "plt.show()"
   ]
  }
 ],
 "metadata": {
  "kernelspec": {
   "display_name": "Python 3",
   "language": "python",
   "name": "python3"
  },
  "language_info": {
   "codemirror_mode": {
    "name": "ipython",
    "version": 3
   },
   "file_extension": ".py",
   "mimetype": "text/x-python",
   "name": "python",
   "nbconvert_exporter": "python",
   "pygments_lexer": "ipython3",
   "version": "3.11.4"
  },
  "orig_nbformat": 4
 },
 "nbformat": 4,
 "nbformat_minor": 2
}
