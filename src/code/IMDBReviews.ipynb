{
 "cells": [
  {
   "attachments": {},
   "cell_type": "markdown",
   "metadata": {},
   "source": [
    "## IMDB Review NLP\n",
    "\n",
    "--- \n",
    "\n",
    "Neste notebook vamos ler um arquivo do tipo **.csv** com cerca de 50.000 reviews de diversos filmes do [IMDB](https://www.imdb.com/) disponíveis no [Kaggle](https://www.kaggle.com/datasets/lakshmi25npathi/imdb-dataset-of-50k-movie-reviews) e analisar o sentimento de cada review, baseado em um segundo dataset também disponível no [Kaggle](https://www.kaggle.com/datasets/praveengovi/emotions-dataset-for-nlp), que comporta uma coleção de frases simples acompanhadas do sentimento classificado como predominante nela (como tristeza, raiva, amor, medo, etc). \n",
    "\n",
    "O processo foi dividido em N etapas, sendo elas:\n",
    "\n",
    "1. *Leitura do Dataset de Reviews.*\n",
    "1. *Leitura do Dataset de Sentimento.*\n",
    "1. *Sumário dos dados obtidos após leitura dos Datasets.*\n",
    "1. ... \n",
    "\n",
    "Durante a etapa N iremos mostrar uma análise dos sentimentos encontrados em cada review e falar um pouco sobre...\n",
    "\n",
    "\n",
    "---"
   ]
  },
  {
   "cell_type": "code",
   "execution_count": 1,
   "metadata": {},
   "outputs": [
    {
     "name": "stdout",
     "output_type": "stream",
     "text": [
      "Requirement already satisfied: beautifulsoup4==4.12.2 in c:\\users\\pichau\\appdata\\local\\programs\\python\\python311\\lib\\site-packages (from -r requirements.txt (line 1)) (4.12.2)\n",
      "Requirement already satisfied: pandas==2.0.2 in c:\\users\\pichau\\appdata\\local\\programs\\python\\python311\\lib\\site-packages (from -r requirements.txt (line 2)) (2.0.2)\n",
      "Requirement already satisfied: matplotlib==3.7 in c:\\users\\pichau\\appdata\\local\\programs\\python\\python311\\lib\\site-packages (from -r requirements.txt (line 3)) (3.7.0)\n",
      "Requirement already satisfied: seaborn==0.12 in c:\\users\\pichau\\appdata\\local\\programs\\python\\python311\\lib\\site-packages (from -r requirements.txt (line 4)) (0.12.0)\n",
      "Requirement already satisfied: plotly==5.15. in c:\\users\\pichau\\appdata\\local\\programs\\python\\python311\\lib\\site-packages (from -r requirements.txt (line 5)) (5.15.0)\n",
      "Requirement already satisfied: nbformat==5.1.2 in c:\\users\\pichau\\appdata\\local\\programs\\python\\python311\\lib\\site-packages (from -r requirements.txt (line 6)) (5.1.2)\n",
      "Requirement already satisfied: ipywidgets>=7.0.0 in c:\\users\\pichau\\appdata\\local\\programs\\python\\python311\\lib\\site-packages (from -r requirements.txt (line 7)) (8.0.6)\n",
      "Requirement already satisfied: soupsieve>1.2 in c:\\users\\pichau\\appdata\\local\\programs\\python\\python311\\lib\\site-packages (from beautifulsoup4==4.12.2->-r requirements.txt (line 1)) (2.4.1)\n",
      "Requirement already satisfied: python-dateutil>=2.8.2 in c:\\users\\pichau\\appdata\\roaming\\python\\python311\\site-packages (from pandas==2.0.2->-r requirements.txt (line 2)) (2.8.2)\n",
      "Requirement already satisfied: pytz>=2020.1 in c:\\users\\pichau\\appdata\\local\\programs\\python\\python311\\lib\\site-packages (from pandas==2.0.2->-r requirements.txt (line 2)) (2023.3)\n",
      "Requirement already satisfied: tzdata>=2022.1 in c:\\users\\pichau\\appdata\\local\\programs\\python\\python311\\lib\\site-packages (from pandas==2.0.2->-r requirements.txt (line 2)) (2023.3)\n",
      "Requirement already satisfied: numpy>=1.21.0 in c:\\users\\pichau\\appdata\\local\\programs\\python\\python311\\lib\\site-packages (from pandas==2.0.2->-r requirements.txt (line 2)) (1.24.3)\n",
      "Requirement already satisfied: contourpy>=1.0.1 in c:\\users\\pichau\\appdata\\local\\programs\\python\\python311\\lib\\site-packages (from matplotlib==3.7->-r requirements.txt (line 3)) (1.1.0)\n",
      "Requirement already satisfied: cycler>=0.10 in c:\\users\\pichau\\appdata\\local\\programs\\python\\python311\\lib\\site-packages (from matplotlib==3.7->-r requirements.txt (line 3)) (0.11.0)\n",
      "Requirement already satisfied: fonttools>=4.22.0 in c:\\users\\pichau\\appdata\\local\\programs\\python\\python311\\lib\\site-packages (from matplotlib==3.7->-r requirements.txt (line 3)) (4.40.0)\n",
      "Requirement already satisfied: kiwisolver>=1.0.1 in c:\\users\\pichau\\appdata\\local\\programs\\python\\python311\\lib\\site-packages (from matplotlib==3.7->-r requirements.txt (line 3)) (1.4.4)\n",
      "Requirement already satisfied: packaging>=20.0 in c:\\users\\pichau\\appdata\\roaming\\python\\python311\\site-packages (from matplotlib==3.7->-r requirements.txt (line 3)) (23.1)\n",
      "Requirement already satisfied: pillow>=6.2.0 in c:\\users\\pichau\\appdata\\local\\programs\\python\\python311\\lib\\site-packages (from matplotlib==3.7->-r requirements.txt (line 3)) (9.5.0)\n",
      "Requirement already satisfied: pyparsing>=2.3.1 in c:\\users\\pichau\\appdata\\local\\programs\\python\\python311\\lib\\site-packages (from matplotlib==3.7->-r requirements.txt (line 3)) (3.0.9)\n",
      "Requirement already satisfied: tenacity>=6.2.0 in c:\\users\\pichau\\appdata\\local\\programs\\python\\python311\\lib\\site-packages (from plotly==5.15.->-r requirements.txt (line 5)) (8.2.2)\n",
      "Requirement already satisfied: ipython-genutils in c:\\users\\pichau\\appdata\\local\\programs\\python\\python311\\lib\\site-packages (from nbformat==5.1.2->-r requirements.txt (line 6)) (0.2.0)\n",
      "Requirement already satisfied: traitlets>=4.1 in c:\\users\\pichau\\appdata\\roaming\\python\\python311\\site-packages (from nbformat==5.1.2->-r requirements.txt (line 6)) (5.9.0)\n",
      "Requirement already satisfied: jsonschema!=2.5.0,>=2.4 in c:\\users\\pichau\\appdata\\local\\programs\\python\\python311\\lib\\site-packages (from nbformat==5.1.2->-r requirements.txt (line 6)) (4.17.3)\n",
      "Requirement already satisfied: jupyter-core in c:\\users\\pichau\\appdata\\roaming\\python\\python311\\site-packages (from nbformat==5.1.2->-r requirements.txt (line 6)) (5.3.0)\n",
      "Requirement already satisfied: ipykernel>=4.5.1 in c:\\users\\pichau\\appdata\\roaming\\python\\python311\\site-packages (from ipywidgets>=7.0.0->-r requirements.txt (line 7)) (6.23.2)\n",
      "Requirement already satisfied: ipython>=6.1.0 in c:\\users\\pichau\\appdata\\roaming\\python\\python311\\site-packages (from ipywidgets>=7.0.0->-r requirements.txt (line 7)) (8.14.0)\n",
      "Requirement already satisfied: widgetsnbextension~=4.0.7 in c:\\users\\pichau\\appdata\\local\\programs\\python\\python311\\lib\\site-packages (from ipywidgets>=7.0.0->-r requirements.txt (line 7)) (4.0.7)\n",
      "Requirement already satisfied: jupyterlab-widgets~=3.0.7 in c:\\users\\pichau\\appdata\\local\\programs\\python\\python311\\lib\\site-packages (from ipywidgets>=7.0.0->-r requirements.txt (line 7)) (3.0.7)\n",
      "Requirement already satisfied: comm>=0.1.1 in c:\\users\\pichau\\appdata\\roaming\\python\\python311\\site-packages (from ipykernel>=4.5.1->ipywidgets>=7.0.0->-r requirements.txt (line 7)) (0.1.3)\n",
      "Requirement already satisfied: debugpy>=1.6.5 in c:\\users\\pichau\\appdata\\roaming\\python\\python311\\site-packages (from ipykernel>=4.5.1->ipywidgets>=7.0.0->-r requirements.txt (line 7)) (1.6.7)\n",
      "Requirement already satisfied: jupyter-client>=6.1.12 in c:\\users\\pichau\\appdata\\roaming\\python\\python311\\site-packages (from ipykernel>=4.5.1->ipywidgets>=7.0.0->-r requirements.txt (line 7)) (8.2.0)\n",
      "Requirement already satisfied: matplotlib-inline>=0.1 in c:\\users\\pichau\\appdata\\roaming\\python\\python311\\site-packages (from ipykernel>=4.5.1->ipywidgets>=7.0.0->-r requirements.txt (line 7)) (0.1.6)\n",
      "Requirement already satisfied: nest-asyncio in c:\\users\\pichau\\appdata\\roaming\\python\\python311\\site-packages (from ipykernel>=4.5.1->ipywidgets>=7.0.0->-r requirements.txt (line 7)) (1.5.6)\n",
      "Requirement already satisfied: psutil in c:\\users\\pichau\\appdata\\roaming\\python\\python311\\site-packages (from ipykernel>=4.5.1->ipywidgets>=7.0.0->-r requirements.txt (line 7)) (5.9.5)\n",
      "Requirement already satisfied: pyzmq>=20 in c:\\users\\pichau\\appdata\\roaming\\python\\python311\\site-packages (from ipykernel>=4.5.1->ipywidgets>=7.0.0->-r requirements.txt (line 7)) (25.1.0)\n",
      "Requirement already satisfied: tornado>=6.1 in c:\\users\\pichau\\appdata\\roaming\\python\\python311\\site-packages (from ipykernel>=4.5.1->ipywidgets>=7.0.0->-r requirements.txt (line 7)) (6.3.2)\n",
      "Requirement already satisfied: backcall in c:\\users\\pichau\\appdata\\roaming\\python\\python311\\site-packages (from ipython>=6.1.0->ipywidgets>=7.0.0->-r requirements.txt (line 7)) (0.2.0)\n",
      "Requirement already satisfied: decorator in c:\\users\\pichau\\appdata\\roaming\\python\\python311\\site-packages (from ipython>=6.1.0->ipywidgets>=7.0.0->-r requirements.txt (line 7)) (5.1.1)\n",
      "Requirement already satisfied: jedi>=0.16 in c:\\users\\pichau\\appdata\\roaming\\python\\python311\\site-packages (from ipython>=6.1.0->ipywidgets>=7.0.0->-r requirements.txt (line 7)) (0.18.2)\n",
      "Requirement already satisfied: pickleshare in c:\\users\\pichau\\appdata\\roaming\\python\\python311\\site-packages (from ipython>=6.1.0->ipywidgets>=7.0.0->-r requirements.txt (line 7)) (0.7.5)\n",
      "Requirement already satisfied: prompt-toolkit!=3.0.37,<3.1.0,>=3.0.30 in c:\\users\\pichau\\appdata\\roaming\\python\\python311\\site-packages (from ipython>=6.1.0->ipywidgets>=7.0.0->-r requirements.txt (line 7)) (3.0.38)\n",
      "Requirement already satisfied: pygments>=2.4.0 in c:\\users\\pichau\\appdata\\roaming\\python\\python311\\site-packages (from ipython>=6.1.0->ipywidgets>=7.0.0->-r requirements.txt (line 7)) (2.15.1)\n",
      "Requirement already satisfied: stack-data in c:\\users\\pichau\\appdata\\roaming\\python\\python311\\site-packages (from ipython>=6.1.0->ipywidgets>=7.0.0->-r requirements.txt (line 7)) (0.6.2)\n",
      "Requirement already satisfied: colorama in c:\\users\\pichau\\appdata\\roaming\\python\\python311\\site-packages (from ipython>=6.1.0->ipywidgets>=7.0.0->-r requirements.txt (line 7)) (0.4.6)\n",
      "Requirement already satisfied: attrs>=17.4.0 in c:\\users\\pichau\\appdata\\local\\programs\\python\\python311\\lib\\site-packages (from jsonschema!=2.5.0,>=2.4->nbformat==5.1.2->-r requirements.txt (line 6)) (23.1.0)\n",
      "Requirement already satisfied: pyrsistent!=0.17.0,!=0.17.1,!=0.17.2,>=0.14.0 in c:\\users\\pichau\\appdata\\local\\programs\\python\\python311\\lib\\site-packages (from jsonschema!=2.5.0,>=2.4->nbformat==5.1.2->-r requirements.txt (line 6)) (0.19.3)\n",
      "Requirement already satisfied: platformdirs>=2.5 in c:\\users\\pichau\\appdata\\roaming\\python\\python311\\site-packages (from jupyter-core->nbformat==5.1.2->-r requirements.txt (line 6)) (3.5.3)\n",
      "Requirement already satisfied: pywin32>=300 in c:\\users\\pichau\\appdata\\roaming\\python\\python311\\site-packages (from jupyter-core->nbformat==5.1.2->-r requirements.txt (line 6)) (306)\n",
      "Requirement already satisfied: six>=1.5 in c:\\users\\pichau\\appdata\\roaming\\python\\python311\\site-packages (from python-dateutil>=2.8.2->pandas==2.0.2->-r requirements.txt (line 2)) (1.16.0)\n",
      "Requirement already satisfied: parso<0.9.0,>=0.8.0 in c:\\users\\pichau\\appdata\\roaming\\python\\python311\\site-packages (from jedi>=0.16->ipython>=6.1.0->ipywidgets>=7.0.0->-r requirements.txt (line 7)) (0.8.3)\n",
      "Requirement already satisfied: wcwidth in c:\\users\\pichau\\appdata\\roaming\\python\\python311\\site-packages (from prompt-toolkit!=3.0.37,<3.1.0,>=3.0.30->ipython>=6.1.0->ipywidgets>=7.0.0->-r requirements.txt (line 7)) (0.2.6)\n",
      "Requirement already satisfied: executing>=1.2.0 in c:\\users\\pichau\\appdata\\roaming\\python\\python311\\site-packages (from stack-data->ipython>=6.1.0->ipywidgets>=7.0.0->-r requirements.txt (line 7)) (1.2.0)\n",
      "Requirement already satisfied: asttokens>=2.1.0 in c:\\users\\pichau\\appdata\\roaming\\python\\python311\\site-packages (from stack-data->ipython>=6.1.0->ipywidgets>=7.0.0->-r requirements.txt (line 7)) (2.2.1)\n",
      "Requirement already satisfied: pure-eval in c:\\users\\pichau\\appdata\\roaming\\python\\python311\\site-packages (from stack-data->ipython>=6.1.0->ipywidgets>=7.0.0->-r requirements.txt (line 7)) (0.2.2)\n",
      "Note: you may need to restart the kernel to use updated packages.\n"
     ]
    }
   ],
   "source": [
    "%pip install -r requirements.txt"
   ]
  },
  {
   "cell_type": "code",
   "execution_count": 2,
   "metadata": {},
   "outputs": [],
   "source": [
    "import pandas as pds\n",
    "import matplotlib as mpl\n",
    "import matplotlib.pyplot as plt\n",
    "import seaborn as sns\n",
    "import plotly.express as px\n",
    "import plotly.graph_objects as go\n",
    "import os\n",
    "\n",
    "from bs4 import BeautifulSoup"
   ]
  },
  {
   "cell_type": "code",
   "execution_count": 3,
   "metadata": {},
   "outputs": [],
   "source": [
    "# reads the csv using the pandas library\n",
    "data_frame = pds.read_csv('../assets/Reviews/reviews.csv')\n",
    "# defines a pattern to search inside the csv\n",
    "pattern = r'(<br>|<br />|http)'\n",
    "# replaces the pattern values with empty string\n",
    "data_frame['review'] = data_frame['review'].str.replace(pattern, \"\", regex=True)\n"
   ]
  },
  {
   "attachments": {},
   "cell_type": "markdown",
   "metadata": {},
   "source": [
    "### Passo 1 - Leitura do Dataset de Reviews.\n",
    "---\n",
    "\n",
    "O objetivo deste passo é ler o CSV referente aos reviews do IMDB e inserir-los dentro de dois novos CSV's, um quando o review for positivo (**positivos.csv**) e outro para reviews negativos (**negativos.csv**).\n",
    "\n",
    "---\n"
   ]
  },
  {
   "cell_type": "code",
   "execution_count": 4,
   "metadata": {},
   "outputs": [],
   "source": [
    "#primeiro lemos o CSV usando a biblioteca pandas para facilitar futuros passos\n",
    "df_reviews = pds.read_csv('../assets/Reviews/reviews.csv')\n",
    "# definimos um padrao para buscarmos e removermos dentro do csv, removendo tags\n",
    "# de HTML que ficaram nos reviews durante o processo.\n",
    "pattern = r'(<br>|<br />|http)'\n",
    "df_reviews['review'] = df_reviews['review'].str.replace(pattern, \"\", regex=True)\n",
    "\n",
    "path_positivos = \"../dist/reviews/positivos.csv\"\n",
    "path_negativos = \"../dist/reviews/negativos.csv\"\n",
    "# primeiro nos certificamos de que não existem arquivos no caminho\n",
    "# onde vamos escrever os CSV's\n",
    "try:\n",
    "    os.remove(path_positivos)\n",
    "    os.remove(path_negativos)\n",
    "except FileNotFoundError as err:\n",
    "    print(\"Pasta '../dist/reviews' já se encontra vazia.\")\n",
    "\n",
    "#aqui separamos os positivos dos negativos\n",
    "df_positivos = df_reviews.loc[df_reviews['sentiment'] == 'positive']\n",
    "df_negativos = df_reviews.loc[df_reviews['sentiment'] == 'negative']\n",
    "\n",
    "# em seguida escrevemos ambos os CSV's dentro do local abaixo\n",
    "df_positivos.to_csv(path_positivos, sep=';', encoding='utf-8')\n",
    "df_negativos.to_csv(path_negativos, sep=';', encoding='utf-8')"
   ]
  },
  {
   "attachments": {},
   "cell_type": "markdown",
   "metadata": {},
   "source": [
    "### Passo 2 - Leitura do Dataset de Sentimentos\n",
    "---\n",
    "\n",
    "O objetivo deste passo é ler o CSV referente aos Sentimentos e inserir-los dentro de um novo CSV, desta vez agrupado por emoção ao invés de sentimento. Ou seja, para cada emoção identificada teremos um novo CSV contendo as linhas referentes a emoção, seguindo o formato **[emoção].csv**.\n",
    "\n",
    "---"
   ]
  },
  {
   "cell_type": "code",
   "execution_count": 5,
   "metadata": {},
   "outputs": [],
   "source": [
    "#primeiro lemos o CSV usando a biblioteca pandas para facilitar futuros passos\n",
    "df_emocoes = pds.read_csv('../assets/NLP/train.txt', delimiter=\";\", names=[\"context\", \"emotion\"])\n",
    "# aqui não é necessário remover tags HTML, pois o dado já vem formatado\n",
    "emocoes = df_emocoes[\"emotion\"].unique()\n",
    "\n",
    "\n",
    "for emocao in emocoes:\n",
    "    path_emocao = \"../dist/sentiment/{0}.csv\".format(emocao)\n",
    "\n",
    "    # primeiro nos certificamos de que não existem arquivos no caminho\n",
    "    # onde vamos escrever os CSV's\n",
    "    try:\n",
    "        os.remove(path_emocao)\n",
    "    except FileNotFoundError as err:\n",
    "        print(\"Não existe um CSV para emoção {0}.\".format(emocao))\n",
    "    \n",
    "    # adquirimos o data frame com a emocao atual\n",
    "    df_emocao_atual = df_emocoes.loc[df_emocoes['emotion'] == emocao]\n",
    "    # em seguida escrevemos o CSV dentro do path_emocao\n",
    "    df_emocao_atual.to_csv(path_emocao, sep=';', encoding='utf-8')\n",
    "    "
   ]
  },
  {
   "attachments": {},
   "cell_type": "markdown",
   "metadata": {},
   "source": [
    "### Passo 3 - Sumário dos dados obtidos através da leitura dos Datasets.\n",
    "---\n",
    "\n",
    "O objetivo deste passo é apresentar os resultados obtidos após a leitura de cada Dataset e começar com a implementação da nossa rede neural.\n",
    "Este passo será divido em 2 blocos, sendo o primeiro para o **Dataset de Reviews** e o segundo para o **Dataset de Emoções**.\n",
    "\n",
    "--- \n",
    "\n",
    "### Passo 3.1 - Dataset de Reviews do IMDB."
   ]
  },
  {
   "cell_type": "code",
   "execution_count": null,
   "metadata": {},
   "outputs": [],
   "source": []
  },
  {
   "attachments": {},
   "cell_type": "markdown",
   "metadata": {},
   "source": [
    "### Passo 3.2 - Dataset de Emoções."
   ]
  },
  {
   "cell_type": "code",
   "execution_count": 44,
   "metadata": {},
   "outputs": [
    {
     "name": "stdout",
     "output_type": "stream",
     "text": [
      "emotion\n",
      "joy         5362\n",
      "sadness     4666\n",
      "anger       2159\n",
      "fear        1937\n",
      "love        1304\n",
      "surprise     572\n",
      "Name: count, dtype: int64\n"
     ]
    },
    {
     "data": {
      "application/vnd.plotly.v1+json": {
       "config": {
        "plotlyServerURL": "https://plot.ly"
       },
       "data": [
        {
         "alignmentgroup": "True",
         "hovertemplate": "Emoção=%{x}<br>Incidência=%{marker.color}<extra></extra>",
         "legendgroup": "",
         "marker": {
          "color": [
           5362,
           4666,
           2159,
           1937,
           1304,
           572
          ],
          "coloraxis": "coloraxis",
          "pattern": {
           "shape": ""
          }
         },
         "name": "",
         "offsetgroup": "",
         "orientation": "v",
         "showlegend": false,
         "textposition": "auto",
         "type": "bar",
         "x": [
          "joy",
          "sadness",
          "anger",
          "fear",
          "love",
          "surprise"
         ],
         "xaxis": "x",
         "y": [
          5362,
          4666,
          2159,
          1937,
          1304,
          572
         ],
         "yaxis": "y"
        }
       ],
       "layout": {
        "barmode": "relative",
        "coloraxis": {
         "colorbar": {
          "title": {
           "text": "Incidência"
          }
         },
         "colorscale": [
          [
           0,
           "rgb(0,0,255)"
          ],
          [
           1,
           "rgb(255,0,0)"
          ]
         ]
        },
        "legend": {
         "tracegroupgap": 0
        },
        "margin": {
         "t": 60
        },
        "template": {
         "data": {
          "bar": [
           {
            "error_x": {
             "color": "#2a3f5f"
            },
            "error_y": {
             "color": "#2a3f5f"
            },
            "marker": {
             "line": {
              "color": "#E5ECF6",
              "width": 0.5
             },
             "pattern": {
              "fillmode": "overlay",
              "size": 10,
              "solidity": 0.2
             }
            },
            "type": "bar"
           }
          ],
          "barpolar": [
           {
            "marker": {
             "line": {
              "color": "#E5ECF6",
              "width": 0.5
             },
             "pattern": {
              "fillmode": "overlay",
              "size": 10,
              "solidity": 0.2
             }
            },
            "type": "barpolar"
           }
          ],
          "carpet": [
           {
            "aaxis": {
             "endlinecolor": "#2a3f5f",
             "gridcolor": "white",
             "linecolor": "white",
             "minorgridcolor": "white",
             "startlinecolor": "#2a3f5f"
            },
            "baxis": {
             "endlinecolor": "#2a3f5f",
             "gridcolor": "white",
             "linecolor": "white",
             "minorgridcolor": "white",
             "startlinecolor": "#2a3f5f"
            },
            "type": "carpet"
           }
          ],
          "choropleth": [
           {
            "colorbar": {
             "outlinewidth": 0,
             "ticks": ""
            },
            "type": "choropleth"
           }
          ],
          "contour": [
           {
            "colorbar": {
             "outlinewidth": 0,
             "ticks": ""
            },
            "colorscale": [
             [
              0,
              "#0d0887"
             ],
             [
              0.1111111111111111,
              "#46039f"
             ],
             [
              0.2222222222222222,
              "#7201a8"
             ],
             [
              0.3333333333333333,
              "#9c179e"
             ],
             [
              0.4444444444444444,
              "#bd3786"
             ],
             [
              0.5555555555555556,
              "#d8576b"
             ],
             [
              0.6666666666666666,
              "#ed7953"
             ],
             [
              0.7777777777777778,
              "#fb9f3a"
             ],
             [
              0.8888888888888888,
              "#fdca26"
             ],
             [
              1,
              "#f0f921"
             ]
            ],
            "type": "contour"
           }
          ],
          "contourcarpet": [
           {
            "colorbar": {
             "outlinewidth": 0,
             "ticks": ""
            },
            "type": "contourcarpet"
           }
          ],
          "heatmap": [
           {
            "colorbar": {
             "outlinewidth": 0,
             "ticks": ""
            },
            "colorscale": [
             [
              0,
              "#0d0887"
             ],
             [
              0.1111111111111111,
              "#46039f"
             ],
             [
              0.2222222222222222,
              "#7201a8"
             ],
             [
              0.3333333333333333,
              "#9c179e"
             ],
             [
              0.4444444444444444,
              "#bd3786"
             ],
             [
              0.5555555555555556,
              "#d8576b"
             ],
             [
              0.6666666666666666,
              "#ed7953"
             ],
             [
              0.7777777777777778,
              "#fb9f3a"
             ],
             [
              0.8888888888888888,
              "#fdca26"
             ],
             [
              1,
              "#f0f921"
             ]
            ],
            "type": "heatmap"
           }
          ],
          "heatmapgl": [
           {
            "colorbar": {
             "outlinewidth": 0,
             "ticks": ""
            },
            "colorscale": [
             [
              0,
              "#0d0887"
             ],
             [
              0.1111111111111111,
              "#46039f"
             ],
             [
              0.2222222222222222,
              "#7201a8"
             ],
             [
              0.3333333333333333,
              "#9c179e"
             ],
             [
              0.4444444444444444,
              "#bd3786"
             ],
             [
              0.5555555555555556,
              "#d8576b"
             ],
             [
              0.6666666666666666,
              "#ed7953"
             ],
             [
              0.7777777777777778,
              "#fb9f3a"
             ],
             [
              0.8888888888888888,
              "#fdca26"
             ],
             [
              1,
              "#f0f921"
             ]
            ],
            "type": "heatmapgl"
           }
          ],
          "histogram": [
           {
            "marker": {
             "pattern": {
              "fillmode": "overlay",
              "size": 10,
              "solidity": 0.2
             }
            },
            "type": "histogram"
           }
          ],
          "histogram2d": [
           {
            "colorbar": {
             "outlinewidth": 0,
             "ticks": ""
            },
            "colorscale": [
             [
              0,
              "#0d0887"
             ],
             [
              0.1111111111111111,
              "#46039f"
             ],
             [
              0.2222222222222222,
              "#7201a8"
             ],
             [
              0.3333333333333333,
              "#9c179e"
             ],
             [
              0.4444444444444444,
              "#bd3786"
             ],
             [
              0.5555555555555556,
              "#d8576b"
             ],
             [
              0.6666666666666666,
              "#ed7953"
             ],
             [
              0.7777777777777778,
              "#fb9f3a"
             ],
             [
              0.8888888888888888,
              "#fdca26"
             ],
             [
              1,
              "#f0f921"
             ]
            ],
            "type": "histogram2d"
           }
          ],
          "histogram2dcontour": [
           {
            "colorbar": {
             "outlinewidth": 0,
             "ticks": ""
            },
            "colorscale": [
             [
              0,
              "#0d0887"
             ],
             [
              0.1111111111111111,
              "#46039f"
             ],
             [
              0.2222222222222222,
              "#7201a8"
             ],
             [
              0.3333333333333333,
              "#9c179e"
             ],
             [
              0.4444444444444444,
              "#bd3786"
             ],
             [
              0.5555555555555556,
              "#d8576b"
             ],
             [
              0.6666666666666666,
              "#ed7953"
             ],
             [
              0.7777777777777778,
              "#fb9f3a"
             ],
             [
              0.8888888888888888,
              "#fdca26"
             ],
             [
              1,
              "#f0f921"
             ]
            ],
            "type": "histogram2dcontour"
           }
          ],
          "mesh3d": [
           {
            "colorbar": {
             "outlinewidth": 0,
             "ticks": ""
            },
            "type": "mesh3d"
           }
          ],
          "parcoords": [
           {
            "line": {
             "colorbar": {
              "outlinewidth": 0,
              "ticks": ""
             }
            },
            "type": "parcoords"
           }
          ],
          "pie": [
           {
            "automargin": true,
            "type": "pie"
           }
          ],
          "scatter": [
           {
            "fillpattern": {
             "fillmode": "overlay",
             "size": 10,
             "solidity": 0.2
            },
            "type": "scatter"
           }
          ],
          "scatter3d": [
           {
            "line": {
             "colorbar": {
              "outlinewidth": 0,
              "ticks": ""
             }
            },
            "marker": {
             "colorbar": {
              "outlinewidth": 0,
              "ticks": ""
             }
            },
            "type": "scatter3d"
           }
          ],
          "scattercarpet": [
           {
            "marker": {
             "colorbar": {
              "outlinewidth": 0,
              "ticks": ""
             }
            },
            "type": "scattercarpet"
           }
          ],
          "scattergeo": [
           {
            "marker": {
             "colorbar": {
              "outlinewidth": 0,
              "ticks": ""
             }
            },
            "type": "scattergeo"
           }
          ],
          "scattergl": [
           {
            "marker": {
             "colorbar": {
              "outlinewidth": 0,
              "ticks": ""
             }
            },
            "type": "scattergl"
           }
          ],
          "scattermapbox": [
           {
            "marker": {
             "colorbar": {
              "outlinewidth": 0,
              "ticks": ""
             }
            },
            "type": "scattermapbox"
           }
          ],
          "scatterpolar": [
           {
            "marker": {
             "colorbar": {
              "outlinewidth": 0,
              "ticks": ""
             }
            },
            "type": "scatterpolar"
           }
          ],
          "scatterpolargl": [
           {
            "marker": {
             "colorbar": {
              "outlinewidth": 0,
              "ticks": ""
             }
            },
            "type": "scatterpolargl"
           }
          ],
          "scatterternary": [
           {
            "marker": {
             "colorbar": {
              "outlinewidth": 0,
              "ticks": ""
             }
            },
            "type": "scatterternary"
           }
          ],
          "surface": [
           {
            "colorbar": {
             "outlinewidth": 0,
             "ticks": ""
            },
            "colorscale": [
             [
              0,
              "#0d0887"
             ],
             [
              0.1111111111111111,
              "#46039f"
             ],
             [
              0.2222222222222222,
              "#7201a8"
             ],
             [
              0.3333333333333333,
              "#9c179e"
             ],
             [
              0.4444444444444444,
              "#bd3786"
             ],
             [
              0.5555555555555556,
              "#d8576b"
             ],
             [
              0.6666666666666666,
              "#ed7953"
             ],
             [
              0.7777777777777778,
              "#fb9f3a"
             ],
             [
              0.8888888888888888,
              "#fdca26"
             ],
             [
              1,
              "#f0f921"
             ]
            ],
            "type": "surface"
           }
          ],
          "table": [
           {
            "cells": {
             "fill": {
              "color": "#EBF0F8"
             },
             "line": {
              "color": "white"
             }
            },
            "header": {
             "fill": {
              "color": "#C8D4E3"
             },
             "line": {
              "color": "white"
             }
            },
            "type": "table"
           }
          ]
         },
         "layout": {
          "annotationdefaults": {
           "arrowcolor": "#2a3f5f",
           "arrowhead": 0,
           "arrowwidth": 1
          },
          "autotypenumbers": "strict",
          "coloraxis": {
           "colorbar": {
            "outlinewidth": 0,
            "ticks": ""
           }
          },
          "colorscale": {
           "diverging": [
            [
             0,
             "#8e0152"
            ],
            [
             0.1,
             "#c51b7d"
            ],
            [
             0.2,
             "#de77ae"
            ],
            [
             0.3,
             "#f1b6da"
            ],
            [
             0.4,
             "#fde0ef"
            ],
            [
             0.5,
             "#f7f7f7"
            ],
            [
             0.6,
             "#e6f5d0"
            ],
            [
             0.7,
             "#b8e186"
            ],
            [
             0.8,
             "#7fbc41"
            ],
            [
             0.9,
             "#4d9221"
            ],
            [
             1,
             "#276419"
            ]
           ],
           "sequential": [
            [
             0,
             "#0d0887"
            ],
            [
             0.1111111111111111,
             "#46039f"
            ],
            [
             0.2222222222222222,
             "#7201a8"
            ],
            [
             0.3333333333333333,
             "#9c179e"
            ],
            [
             0.4444444444444444,
             "#bd3786"
            ],
            [
             0.5555555555555556,
             "#d8576b"
            ],
            [
             0.6666666666666666,
             "#ed7953"
            ],
            [
             0.7777777777777778,
             "#fb9f3a"
            ],
            [
             0.8888888888888888,
             "#fdca26"
            ],
            [
             1,
             "#f0f921"
            ]
           ],
           "sequentialminus": [
            [
             0,
             "#0d0887"
            ],
            [
             0.1111111111111111,
             "#46039f"
            ],
            [
             0.2222222222222222,
             "#7201a8"
            ],
            [
             0.3333333333333333,
             "#9c179e"
            ],
            [
             0.4444444444444444,
             "#bd3786"
            ],
            [
             0.5555555555555556,
             "#d8576b"
            ],
            [
             0.6666666666666666,
             "#ed7953"
            ],
            [
             0.7777777777777778,
             "#fb9f3a"
            ],
            [
             0.8888888888888888,
             "#fdca26"
            ],
            [
             1,
             "#f0f921"
            ]
           ]
          },
          "colorway": [
           "#636efa",
           "#EF553B",
           "#00cc96",
           "#ab63fa",
           "#FFA15A",
           "#19d3f3",
           "#FF6692",
           "#B6E880",
           "#FF97FF",
           "#FECB52"
          ],
          "font": {
           "color": "#2a3f5f"
          },
          "geo": {
           "bgcolor": "white",
           "lakecolor": "white",
           "landcolor": "#E5ECF6",
           "showlakes": true,
           "showland": true,
           "subunitcolor": "white"
          },
          "hoverlabel": {
           "align": "left"
          },
          "hovermode": "closest",
          "mapbox": {
           "style": "light"
          },
          "paper_bgcolor": "white",
          "plot_bgcolor": "#E5ECF6",
          "polar": {
           "angularaxis": {
            "gridcolor": "white",
            "linecolor": "white",
            "ticks": ""
           },
           "bgcolor": "#E5ECF6",
           "radialaxis": {
            "gridcolor": "white",
            "linecolor": "white",
            "ticks": ""
           }
          },
          "scene": {
           "xaxis": {
            "backgroundcolor": "#E5ECF6",
            "gridcolor": "white",
            "gridwidth": 2,
            "linecolor": "white",
            "showbackground": true,
            "ticks": "",
            "zerolinecolor": "white"
           },
           "yaxis": {
            "backgroundcolor": "#E5ECF6",
            "gridcolor": "white",
            "gridwidth": 2,
            "linecolor": "white",
            "showbackground": true,
            "ticks": "",
            "zerolinecolor": "white"
           },
           "zaxis": {
            "backgroundcolor": "#E5ECF6",
            "gridcolor": "white",
            "gridwidth": 2,
            "linecolor": "white",
            "showbackground": true,
            "ticks": "",
            "zerolinecolor": "white"
           }
          },
          "shapedefaults": {
           "line": {
            "color": "#2a3f5f"
           }
          },
          "ternary": {
           "aaxis": {
            "gridcolor": "white",
            "linecolor": "white",
            "ticks": ""
           },
           "baxis": {
            "gridcolor": "white",
            "linecolor": "white",
            "ticks": ""
           },
           "bgcolor": "#E5ECF6",
           "caxis": {
            "gridcolor": "white",
            "linecolor": "white",
            "ticks": ""
           }
          },
          "title": {
           "x": 0.05
          },
          "xaxis": {
           "automargin": true,
           "gridcolor": "white",
           "linecolor": "white",
           "ticks": "",
           "title": {
            "standoff": 15
           },
           "zerolinecolor": "white",
           "zerolinewidth": 2
          },
          "yaxis": {
           "automargin": true,
           "gridcolor": "white",
           "linecolor": "white",
           "ticks": "",
           "title": {
            "standoff": 15
           },
           "zerolinecolor": "white",
           "zerolinewidth": 2
          }
         }
        },
        "xaxis": {
         "anchor": "y",
         "domain": [
          0,
          1
         ],
         "title": {
          "text": "Emoção"
         }
        },
        "yaxis": {
         "anchor": "x",
         "domain": [
          0,
          1
         ],
         "title": {
          "text": "Incidência"
         }
        }
       }
      }
     },
     "metadata": {},
     "output_type": "display_data"
    }
   ],
   "source": [
    "\n",
    "\n",
    "valores = df_emocoes['emotion'].value_counts()\n",
    "\n",
    "print(valores)\n",
    "\n",
    "traducao = {\n",
    "    'emotion':'Emoção', \n",
    "    'value': 'Incidência',\n",
    "    'fear': 'Medo',\n",
    "    'love': 'Amor',\n",
    "    'anger': 'Raiva',\n",
    "    'joy': 'Alegria',\n",
    "    'sadness': 'Tristeza',\n",
    "    'surprise': 'Surpresa'\n",
    "}  \n",
    "\n",
    "fig = px.bar(\n",
    "    valores, \n",
    "    color='value',\n",
    "    labels=traducao,\n",
    "    color_continuous_scale=px.colors.sequential.Bluered\n",
    ")\n",
    "fig.show()\n"
   ]
  }
 ],
 "metadata": {
  "kernelspec": {
   "display_name": "Python 3",
   "language": "python",
   "name": "python3"
  },
  "language_info": {
   "codemirror_mode": {
    "name": "ipython",
    "version": 3
   },
   "file_extension": ".py",
   "mimetype": "text/x-python",
   "name": "python",
   "nbconvert_exporter": "python",
   "pygments_lexer": "ipython3",
   "version": "3.11.4"
  },
  "orig_nbformat": 4
 },
 "nbformat": 4,
 "nbformat_minor": 2
}
